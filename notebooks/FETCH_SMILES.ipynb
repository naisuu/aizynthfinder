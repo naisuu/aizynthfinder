{
 "cells": [
  {
   "cell_type": "code",
   "execution_count": 17,
   "id": "007e98eb",
   "metadata": {},
   "outputs": [],
   "source": [
    "from chembl_webresource_client.new_client import new_client\n",
    "mol_client = new_client.molecule"
   ]
  },
  {
   "cell_type": "code",
   "execution_count": 24,
   "id": "cde833d4",
   "metadata": {},
   "outputs": [],
   "source": [
    "test_drugs = {\n",
    "    \"acetaminophen\" : \"CHEMBL112\",\n",
    "    \"CGS-21680\" : \"CHEMBL331372\",  # A2AR antagonist\n",
    "    \"caffeine\" : \"CHEMBL113\",\n",
    "    \"dextromoramide\" : \"CHEMBL3833389\",\n",
    "    \"bezitramide\" : \"CHEMBL2104149\",\n",
    "}"
   ]
  },
  {
   "cell_type": "code",
   "execution_count": 25,
   "id": "57890c3f",
   "metadata": {},
   "outputs": [],
   "source": [
    "chembl_ids = [v for k, v in test_drugs.items()]"
   ]
  },
  {
   "cell_type": "code",
   "execution_count": 26,
   "id": "7c672205",
   "metadata": {},
   "outputs": [],
   "source": [
    "res = [mol_client.get(chembl_id) for chembl_id in chembl_ids]"
   ]
  },
  {
   "cell_type": "code",
   "execution_count": 29,
   "id": "1500d45f",
   "metadata": {},
   "outputs": [],
   "source": [
    "smiles = [r[\"molecule_structures\"][\"canonical_smiles\"] for r in res]"
   ]
  },
  {
   "cell_type": "code",
   "execution_count": 33,
   "id": "a29343af",
   "metadata": {},
   "outputs": [],
   "source": [
    "with open(\"../data/smiles_list_2.txt\", mode=\"w\", encoding=\"utf-8\") as f:\n",
    "    for line in smiles:\n",
    "        f.write(f\"{line}\\n\")"
   ]
  }
 ],
 "metadata": {
  "kernelspec": {
   "display_name": "Python 3",
   "language": "python",
   "name": "python3"
  },
  "language_info": {
   "codemirror_mode": {
    "name": "ipython",
    "version": 3
   },
   "file_extension": ".py",
   "mimetype": "text/x-python",
   "name": "python",
   "nbconvert_exporter": "python",
   "pygments_lexer": "ipython3",
   "version": "3.8.8"
  }
 },
 "nbformat": 4,
 "nbformat_minor": 5
}
