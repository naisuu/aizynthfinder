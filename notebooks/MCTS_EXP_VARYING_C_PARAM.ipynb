{
 "cells": [
  {
   "cell_type": "code",
   "execution_count": 10,
   "id": "02b8ebff",
   "metadata": {},
   "outputs": [],
   "source": [
    "import json\n",
    "import os\n",
    "import sys\n",
    "from datetime import datetime\n",
    "from typing import *\n",
    "\n",
    "from aizynthfinder.aizynthfinder import AiZynthFinder\n",
    "\n",
    "\n",
    "def disablePrint():\n",
    "    sys.stdout = open(os.devnull, 'w')\n",
    "\n",
    "\n",
    "def enablePrint():\n",
    "    sys.stdout = sys.__stdout__\n",
    "\n",
    "\n",
    "def generate_time_tag() -> str:\n",
    "    d = datetime.now()\n",
    "    return d.strftime(\"%d%m%y_%H%M\")\n",
    "\n",
    "\n",
    "def setup_finder(config_path: str = \"../data/config.yml\"):\n",
    "    finder = AiZynthFinder(config_path)\n",
    "    finder.stock.select(\"zinc\")\n",
    "    finder.expansion_policy.select(\"uspto\")\n",
    "    finder.filter_policy.select(\"uspto\")\n",
    "    return finder\n",
    "\n",
    "\n",
    "def load_smiles(smiles_path: str) -> List[str]:\n",
    "    print(f\"Loading SMILES from '{smiles_path}'.\")\n",
    "    with open(smiles_path, mode=\"r\", encoding=\"utf-8\") as f:\n",
    "        smiles_list = [smiles for smiles in f.read().split(\"\\n\")]\n",
    "    print(f\"Loaded {len(smiles_list)} SMILES.\")\n",
    "    return smiles_list\n",
    "\n",
    "\n",
    "def experiment_with_C(finder: AiZynthFinder, C_values: List[float],\n",
    "                      smiles_path: str = \"../data/smiles_list.txt\") -> Dict[float, List[Dict[str, str]]]:\n",
    "    smiles_list = load_smiles(smiles_path)\n",
    "    result_dict = {}\n",
    "    for C in C_values:\n",
    "        finder.config.C = C\n",
    "        print(f\"Running finder with C set to {finder.config.C}.\")\n",
    "        stats_list = process_smiles_list(finder, target_smiles=smiles_list)\n",
    "        result_dict[C] = stats_list\n",
    "    return result_dict\n",
    "\n",
    "\n",
    "def process_smiles_list(finder: AiZynthFinder, target_smiles: List[str]) -> List[Dict[str, str]]:\n",
    "    stats_list: List[Dict[str, str]] = []\n",
    "    for smiles in target_smiles:\n",
    "        finder.target_smiles = smiles\n",
    "        finder.tree_search()\n",
    "        finder.build_routes()\n",
    "        stats_list.append(finder.extract_statistics())\n",
    "    return stats_list\n",
    "\n",
    "\n",
    "def get_smiles_routes(finder: AiZynthFinder, target_smiles: List[str]) -> List[Dict[str, str]]:\n",
    "    routes = []\n",
    "    for smiles in target_smiles:\n",
    "        finder.config.time_limit = 10\n",
    "        finder.target_smiles = smiles\n",
    "        finder.tree_search()\n",
    "        finder.build_routes()\n",
    "        routes.append(finder.analysis)\n",
    "    return routes\n",
    "\n",
    "\n",
    "def main(verbose=False):\n",
    "    if not verbose:\n",
    "        disablePrint()\n",
    "\n",
    "    finder = setup_finder()\n",
    "\n",
    "    time_tag = generate_time_tag()\n",
    "\n",
    "    C_values = [1.0, 1.2, 1.4]\n",
    "    result_dict = experiment_with_C(finder=finder, C_values=C_values)\n",
    "\n",
    "    with open(f\"../data/result_dict_json_{time_tag}.json\", mode=\"w\", encoding=\"utf-8\") as json_file:\n",
    "        json.dump(result_dict, json_file)"
   ]
  },
  {
   "cell_type": "code",
   "execution_count": 3,
   "id": "b1582912",
   "metadata": {},
   "outputs": [
    {
     "name": "stdout",
     "output_type": "stream",
     "text": [
      "Loading SMILES from '../data/smiles_list.txt'.\n",
      "Loaded 2 SMILES.\n",
      "Running finder with C set to 1.0\n",
      "Running finder with C set to 1.2\n",
      "Running finder with C set to 1.4\n"
     ]
    }
   ],
   "source": [
    "main(verbose=True)"
   ]
  },
  {
   "cell_type": "code",
   "execution_count": 4,
   "id": "636d958f",
   "metadata": {},
   "outputs": [],
   "source": [
    "with open(\"../data/result_dict_json_240621_1921.json\", mode=\"r\", encoding=\"utf-8\") as f:\n",
    "    json = json.load(f)"
   ]
  },
  {
   "cell_type": "code",
   "execution_count": 5,
   "id": "a39dc68e",
   "metadata": {},
   "outputs": [
    {
     "data": {
      "text/plain": [
       "{'1.0': [{'target': 'Cc1cccc(C)c1N(CC(=O)Nc1ccc(-c2ncon2)cc1)C(=O)C1CCS(=O)(=O)CC1',\n",
       "   'search_time': 94.17635321617126,\n",
       "   'first_solution_time': 12.459070682525635,\n",
       "   'first_solution_iteration': 10,\n",
       "   'number_of_nodes': 461,\n",
       "   'max_transforms': 7,\n",
       "   'max_children': 16,\n",
       "   'number_of_routes': 97,\n",
       "   'number_of_solved_routes': 24,\n",
       "   'top_score': 0.994039853898894,\n",
       "   'is_solved': True,\n",
       "   'number_of_steps': 2,\n",
       "   'number_of_precursors': 3,\n",
       "   'number_of_precursors_in_stock': 3,\n",
       "   'precursors_in_stock': 'O=C(O)C1CCS(=O)(=O)CC1, Cc1cccc(C)c1NCC(=O)O, Nc1ccc(-c2ncon2)cc1',\n",
       "   'precursors_not_in_stock': '',\n",
       "   'policy_used_counts': {'uspto': 460}},\n",
       "  {'target': 'Cc1cccc(C)c1N(CC(=O)Nc1ccc(-c2ncon2)cc1)C(=O)C1CCS(=O)(=O)CC1',\n",
       "   'search_time': 92.66990780830383,\n",
       "   'first_solution_time': 10.344624757766724,\n",
       "   'first_solution_iteration': 10,\n",
       "   'number_of_nodes': 461,\n",
       "   'max_transforms': 7,\n",
       "   'max_children': 16,\n",
       "   'number_of_routes': 97,\n",
       "   'number_of_solved_routes': 24,\n",
       "   'top_score': 0.994039853898894,\n",
       "   'is_solved': True,\n",
       "   'number_of_steps': 2,\n",
       "   'number_of_precursors': 3,\n",
       "   'number_of_precursors_in_stock': 3,\n",
       "   'precursors_in_stock': 'O=C(O)C1CCS(=O)(=O)CC1, Cc1cccc(C)c1NCC(=O)O, Nc1ccc(-c2ncon2)cc1',\n",
       "   'precursors_not_in_stock': '',\n",
       "   'policy_used_counts': {'uspto': 460}}],\n",
       " '1.2': [{'target': 'Cc1cccc(C)c1N(CC(=O)Nc1ccc(-c2ncon2)cc1)C(=O)C1CCS(=O)(=O)CC1',\n",
       "   'search_time': 98.94877552986145,\n",
       "   'first_solution_time': 8.631689310073853,\n",
       "   'first_solution_iteration': 9,\n",
       "   'number_of_nodes': 469,\n",
       "   'max_transforms': 7,\n",
       "   'max_children': 16,\n",
       "   'number_of_routes': 98,\n",
       "   'number_of_solved_routes': 23,\n",
       "   'top_score': 0.994039853898894,\n",
       "   'is_solved': True,\n",
       "   'number_of_steps': 2,\n",
       "   'number_of_precursors': 3,\n",
       "   'number_of_precursors_in_stock': 3,\n",
       "   'precursors_in_stock': 'O=C(O)C1CCS(=O)(=O)CC1, Cc1cccc(C)c1NCC(=O)O, Nc1ccc(-c2ncon2)cc1',\n",
       "   'precursors_not_in_stock': '',\n",
       "   'policy_used_counts': {'uspto': 468}},\n",
       "  {'target': 'Cc1cccc(C)c1N(CC(=O)Nc1ccc(-c2ncon2)cc1)C(=O)C1CCS(=O)(=O)CC1',\n",
       "   'search_time': 99.29280662536621,\n",
       "   'first_solution_time': 9.064289808273315,\n",
       "   'first_solution_iteration': 9,\n",
       "   'number_of_nodes': 469,\n",
       "   'max_transforms': 7,\n",
       "   'max_children': 16,\n",
       "   'number_of_routes': 98,\n",
       "   'number_of_solved_routes': 23,\n",
       "   'top_score': 0.994039853898894,\n",
       "   'is_solved': True,\n",
       "   'number_of_steps': 2,\n",
       "   'number_of_precursors': 3,\n",
       "   'number_of_precursors_in_stock': 3,\n",
       "   'precursors_in_stock': 'O=C(O)C1CCS(=O)(=O)CC1, Cc1cccc(C)c1NCC(=O)O, Nc1ccc(-c2ncon2)cc1',\n",
       "   'precursors_not_in_stock': '',\n",
       "   'policy_used_counts': {'uspto': 468}}],\n",
       " '1.4': [{'target': 'Cc1cccc(C)c1N(CC(=O)Nc1ccc(-c2ncon2)cc1)C(=O)C1CCS(=O)(=O)CC1',\n",
       "   'search_time': 100.1805031299591,\n",
       "   'first_solution_time': 8.977780818939209,\n",
       "   'first_solution_iteration': 9,\n",
       "   'number_of_nodes': 478,\n",
       "   'max_transforms': 7,\n",
       "   'max_children': 16,\n",
       "   'number_of_routes': 101,\n",
       "   'number_of_solved_routes': 24,\n",
       "   'top_score': 0.994039853898894,\n",
       "   'is_solved': True,\n",
       "   'number_of_steps': 2,\n",
       "   'number_of_precursors': 3,\n",
       "   'number_of_precursors_in_stock': 3,\n",
       "   'precursors_in_stock': 'O=C(O)C1CCS(=O)(=O)CC1, Cc1cccc(C)c1NCC(=O)O, Nc1ccc(-c2ncon2)cc1',\n",
       "   'precursors_not_in_stock': '',\n",
       "   'policy_used_counts': {'uspto': 477}},\n",
       "  {'target': 'Cc1cccc(C)c1N(CC(=O)Nc1ccc(-c2ncon2)cc1)C(=O)C1CCS(=O)(=O)CC1',\n",
       "   'search_time': 104.59740138053894,\n",
       "   'first_solution_time': 8.932391166687012,\n",
       "   'first_solution_iteration': 9,\n",
       "   'number_of_nodes': 477,\n",
       "   'max_transforms': 7,\n",
       "   'max_children': 16,\n",
       "   'number_of_routes': 101,\n",
       "   'number_of_solved_routes': 24,\n",
       "   'top_score': 0.994039853898894,\n",
       "   'is_solved': True,\n",
       "   'number_of_steps': 2,\n",
       "   'number_of_precursors': 3,\n",
       "   'number_of_precursors_in_stock': 3,\n",
       "   'precursors_in_stock': 'O=C(O)C1CCS(=O)(=O)CC1, Cc1cccc(C)c1NCC(=O)O, Nc1ccc(-c2ncon2)cc1',\n",
       "   'precursors_not_in_stock': '',\n",
       "   'policy_used_counts': {'uspto': 476}}]}"
      ]
     },
     "execution_count": 5,
     "metadata": {},
     "output_type": "execute_result"
    }
   ],
   "source": [
    "json"
   ]
  },
  {
   "cell_type": "code",
   "execution_count": 25,
   "id": "0a43b3c3",
   "metadata": {},
   "outputs": [],
   "source": [
    "finder = setup_finder()"
   ]
  },
  {
   "cell_type": "code",
   "execution_count": 26,
   "id": "f25cea94",
   "metadata": {},
   "outputs": [
    {
     "name": "stderr",
     "output_type": "stream",
     "text": [
      "                                                 \r"
     ]
    }
   ],
   "source": [
    "def get_smiles_routes(finder: AiZynthFinder, target_smiles: List[str]) -> List[Dict[str, str]]:\n",
    "    routes = []\n",
    "    for smiles in target_smiles:\n",
    "        finder.target_smiles = smiles\n",
    "        finder.tree_search(show_progress=True)\n",
    "        finder.build_routes()\n",
    "        routes.append(finder.analysis.sort_nodes(min_return=2, max_return=3))\n",
    "    return routes\n",
    "a = get_smiles_routes(finder=finder, target_smiles=[\"Cc1cccc(C)c1N(CC(=O)Nc1ccc(-c2ncon2)cc1)C(=O)C1CCS(=O)(=O)CC1\"])"
   ]
  },
  {
   "cell_type": "code",
   "execution_count": 27,
   "id": "5954f3f1",
   "metadata": {},
   "outputs": [
    {
     "name": "stdout",
     "output_type": "stream",
     "text": [
      "[([<aizynthfinder.mcts.node.Node object at 0x7f0d2cf39250>, <aizynthfinder.mcts.node.Node object at 0x7f0d2b12e1f0>, <aizynthfinder.mcts.node.Node object at 0x7f0d2a882610>], [0.994039853898894, 0.994039853898894, 0.994039853898894])]\n"
     ]
    }
   ],
   "source": [
    "print(a)"
   ]
  },
  {
   "cell_type": "code",
   "execution_count": null,
   "id": "3e6b4bb2",
   "metadata": {},
   "outputs": [],
   "source": []
  }
 ],
 "metadata": {
  "kernelspec": {
   "display_name": "Python 3",
   "language": "python",
   "name": "python3"
  },
  "language_info": {
   "codemirror_mode": {
    "name": "ipython",
    "version": 3
   },
   "file_extension": ".py",
   "mimetype": "text/x-python",
   "name": "python",
   "nbconvert_exporter": "python",
   "pygments_lexer": "ipython3",
   "version": "3.8.8"
  }
 },
 "nbformat": 4,
 "nbformat_minor": 5
}
