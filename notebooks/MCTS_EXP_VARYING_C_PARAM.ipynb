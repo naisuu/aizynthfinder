{
 "cells": [
  {
   "cell_type": "code",
   "execution_count": 4,
   "id": "02b8ebff",
   "metadata": {},
   "outputs": [],
   "source": [
    "import json\n",
    "import os\n",
    "import sys\n",
    "import matplotlib.pyplot as plt\n",
    "from datetime import datetime\n",
    "from typing import *\n",
    "\n",
    "from aizynthfinder.aizynthfinder import AiZynthFinder\n",
    "\n",
    "\n",
    "def disablePrint():\n",
    "    sys.stdout = open(os.devnull, 'w')\n",
    "\n",
    "\n",
    "def enablePrint():\n",
    "    sys.stdout = sys.__stdout__\n",
    "\n",
    "\n",
    "def generate_time_tag() -> str:\n",
    "    d = datetime.now()\n",
    "    return d.strftime(\"%d%m%y_%H%M\")\n",
    "\n",
    "\n",
    "def setup_finder(config_path: str = \"../data/config.yml\"):\n",
    "    finder = AiZynthFinder(config_path)\n",
    "    finder.stock.select(\"zinc\")\n",
    "    finder.expansion_policy.select(\"uspto\")\n",
    "    finder.filter_policy.select(\"uspto\")\n",
    "    return finder\n",
    "\n",
    "\n",
    "def load_smiles(smiles_path: str) -> List[str]:\n",
    "    print(f\"Loading SMILES from '{smiles_path}'.\")\n",
    "    with open(smiles_path, mode=\"r\", encoding=\"utf-8\") as f:\n",
    "        smiles_list = [smiles for smiles in f.read().split(\"\\n\")]\n",
    "    print(f\"Loaded {len(smiles_list)} SMILES.\")\n",
    "    return smiles_list\n",
    "\n",
    "\n",
    "def experiment_with_C(finder: AiZynthFinder, C_values: List[float],\n",
    "                      smiles_path: str = \"../data/smiles_list.txt\") -> Dict[float, List[Dict[str, str]]]:\n",
    "    smiles_list = load_smiles(smiles_path)\n",
    "    result_dict = {}\n",
    "    for C in C_values:\n",
    "        finder.config.C = C\n",
    "        print(f\"Running finder with C set to {finder.config.C}.\")\n",
    "        stats_list = process_smiles_list(finder, target_smiles=smiles_list)\n",
    "        result_dict[C] = stats_list\n",
    "    return result_dict\n",
    "\n",
    "\n",
    "def process_smiles_list(finder: AiZynthFinder, target_smiles: List[str]) -> List[Dict[str, str]]:\n",
    "    stats_list: List[Dict[str, str]] = []\n",
    "    for smiles in target_smiles:\n",
    "        finder.target_smiles = smiles\n",
    "        finder.tree_search(show_progress=True)\n",
    "        finder.build_routes()\n",
    "        stats_list.append(finder.extract_statistics())\n",
    "    return stats_list\n",
    "\n",
    "\n",
    "# TODO: Rename to get_nodes_for_smiles or something in that direction\n",
    "def get_smiles_routes(finder: AiZynthFinder, target_smiles: List[str]) -> List[Dict[str, str]]:\n",
    "    routes = []\n",
    "    for smiles in target_smiles:\n",
    "        finder.target_smiles = smiles\n",
    "        finder.tree_search(show_progress=True)\n",
    "        finder.build_routes()\n",
    "        routes.append(finder.analysis.sort_nodes(min_return=2, max_return=3))\n",
    "    return routes\n",
    "\n",
    "\n",
    "def main(verbose=False):\n",
    "    if not verbose:\n",
    "        disablePrint()\n",
    "\n",
    "    finder = setup_finder()\n",
    "\n",
    "    time_tag = generate_time_tag()\n",
    "\n",
    "    C_values = [0.8, 1.0, 1.2, 1.4, 1.6]\n",
    "    result_dict = experiment_with_C(finder=finder, C_values=C_values)\n",
    "\n",
    "    with open(f\"../data/result_dict_json_{time_tag}.json\", mode=\"w\", encoding=\"utf-8\") as json_file:\n",
    "        json.dump(result_dict, json_file)\n",
    "    \n",
    "#     enablePrint()\n",
    "        \n",
    "\n",
    "def main2(verbose=False):\n",
    "    if not verbose:\n",
    "        disablePrintlePrint()\n",
    "        \n",
    "    finder = setup_finder()\n",
    "    \n",
    "    smiles_path = \"../data/smiles_list.txt\"\n",
    "    routes = get_smiles_routes(finder=finder, target_smiles=load_smiles(smiles_path))\n",
    "    \n",
    "    return routes\n",
    "    \n",
    "#     enablePrint()\n",
    "    "
   ]
  },
  {
   "cell_type": "code",
   "execution_count": 2,
   "id": "b1582912",
   "metadata": {},
   "outputs": [
    {
     "name": "stderr",
     "output_type": "stream",
     "text": [
      "\r",
      "  0%|          | 0/100 [00:00<?, ?it/s]"
     ]
    },
    {
     "name": "stdout",
     "output_type": "stream",
     "text": [
      "Loading SMILES from '../data/smiles_list.txt'.\n",
      "Loaded 5 SMILES.\n",
      "Running finder with C set to 0.8.\n"
     ]
    },
    {
     "name": "stderr",
     "output_type": "stream",
     "text": [
      "  4%|▍         | 4/100 [00:00<00:03, 30.91it/s]  "
     ]
    },
    {
     "name": "stdout",
     "output_type": "stream",
     "text": [
      "Running finder with C set to 1.0.\n"
     ]
    },
    {
     "name": "stderr",
     "output_type": "stream",
     "text": [
      "  4%|▍         | 4/100 [00:00<00:03, 30.83it/s]  "
     ]
    },
    {
     "name": "stdout",
     "output_type": "stream",
     "text": [
      "Running finder with C set to 1.2.\n"
     ]
    },
    {
     "name": "stderr",
     "output_type": "stream",
     "text": [
      "  3%|▎         | 3/100 [00:00<00:03, 29.22it/s]  "
     ]
    },
    {
     "name": "stdout",
     "output_type": "stream",
     "text": [
      "Running finder with C set to 1.4.\n"
     ]
    },
    {
     "name": "stderr",
     "output_type": "stream",
     "text": [
      "  4%|▍         | 4/100 [00:00<00:03, 30.19it/s]  "
     ]
    },
    {
     "name": "stdout",
     "output_type": "stream",
     "text": [
      "Running finder with C set to 1.6.\n"
     ]
    },
    {
     "name": "stderr",
     "output_type": "stream",
     "text": [
      "                                                 \r"
     ]
    }
   ],
   "source": [
    "main(verbose=True)"
   ]
  },
  {
   "cell_type": "code",
   "execution_count": 5,
   "id": "d1ff23c4",
   "metadata": {},
   "outputs": [
    {
     "name": "stderr",
     "output_type": "stream",
     "text": [
      "\r",
      "  0%|          | 0/100 [00:00<?, ?it/s]"
     ]
    },
    {
     "name": "stdout",
     "output_type": "stream",
     "text": [
      "Loading SMILES from '../data/smiles_list.txt'.\n",
      "Loaded 5 SMILES.\n"
     ]
    },
    {
     "name": "stderr",
     "output_type": "stream",
     "text": [
      "                                                 \r"
     ]
    }
   ],
   "source": [
    "routes = main2(verbose=True)"
   ]
  },
  {
   "cell_type": "code",
   "execution_count": 6,
   "id": "092c0620",
   "metadata": {},
   "outputs": [
    {
     "ename": "AttributeError",
     "evalue": "Can't pickle local object 'Layer.add_loss.<locals>._tag_callable'",
     "output_type": "error",
     "traceback": [
      "\u001b[0;31m---------------------------------------------------------------------------\u001b[0m",
      "\u001b[0;31mAttributeError\u001b[0m                            Traceback (most recent call last)",
      "\u001b[0;32m<ipython-input-6-be499452b3d5>\u001b[0m in \u001b[0;36m<module>\u001b[0;34m\u001b[0m\n\u001b[1;32m      4\u001b[0m \u001b[0;34m\u001b[0m\u001b[0m\n\u001b[1;32m      5\u001b[0m \u001b[0;32mwith\u001b[0m \u001b[0mopen\u001b[0m\u001b[0;34m(\u001b[0m\u001b[0;34m'../data/retro_states.pkl'\u001b[0m\u001b[0;34m,\u001b[0m \u001b[0;34m'wb'\u001b[0m\u001b[0;34m)\u001b[0m \u001b[0;32mas\u001b[0m \u001b[0mf\u001b[0m\u001b[0;34m:\u001b[0m\u001b[0;34m\u001b[0m\u001b[0;34m\u001b[0m\u001b[0m\n\u001b[0;32m----> 6\u001b[0;31m     \u001b[0mpickle\u001b[0m\u001b[0;34m.\u001b[0m\u001b[0mdump\u001b[0m\u001b[0;34m(\u001b[0m\u001b[0mroutes\u001b[0m\u001b[0;34m,\u001b[0m \u001b[0mf\u001b[0m\u001b[0;34m)\u001b[0m\u001b[0;34m\u001b[0m\u001b[0;34m\u001b[0m\u001b[0m\n\u001b[0m",
      "\u001b[0;31mAttributeError\u001b[0m: Can't pickle local object 'Layer.add_loss.<locals>._tag_callable'"
     ]
    }
   ],
   "source": [
    "# Do stuff with routes here, e.g. pickle the Node list?\n",
    "\n",
    "import pickle\n",
    "\n",
    "with open('../data/retro_states.pkl', 'wb') as f:\n",
    "    pickle.dump(routes, f)"
   ]
  },
  {
   "cell_type": "code",
   "execution_count": 7,
   "id": "938a4b13",
   "metadata": {},
   "outputs": [
    {
     "data": {
      "text/plain": [
       "[([<aizynthfinder.mcts.node.Node at 0x7fb627928070>,\n",
       "   <aizynthfinder.mcts.node.Node at 0x7fb5a0dbcac0>,\n",
       "   <aizynthfinder.mcts.node.Node at 0x7fb5a0dd7370>],\n",
       "  [0.9976287063411217, 0.9976287063411217, 0.9976287063411217]),\n",
       " ([<aizynthfinder.mcts.node.Node at 0x7fb628197c40>,\n",
       "   <aizynthfinder.mcts.node.Node at 0x7fb626830250>,\n",
       "   <aizynthfinder.mcts.node.Node at 0x7fb627f7abe0>],\n",
       "  [0.7659601461011059, 0.7623712936588783, 0.7623712936588783]),\n",
       " ([<aizynthfinder.mcts.node.Node at 0x7fb68c178a60>,\n",
       "   <aizynthfinder.mcts.node.Node at 0x7fb627b342b0>,\n",
       "   <aizynthfinder.mcts.node.Node at 0x7fb5a0bcd070>],\n",
       "  [0.9976287063411217, 0.9976287063411217, 0.9976287063411217]),\n",
       " ([<aizynthfinder.mcts.node.Node at 0x7fb6349228b0>,\n",
       "   <aizynthfinder.mcts.node.Node at 0x7fb634756340>,\n",
       "   <aizynthfinder.mcts.node.Node at 0x7fb627cf40a0>],\n",
       "  [0.975, 0.9634470710684997, 0.9634470710684997]),\n",
       " ([<aizynthfinder.mcts.node.Node at 0x7fb634346670>,\n",
       "   <aizynthfinder.mcts.node.Node at 0x7fb631592b80>],\n",
       "  [0.8372101461011058, 0.8372101461011058])]"
      ]
     },
     "execution_count": 7,
     "metadata": {},
     "output_type": "execute_result"
    }
   ],
   "source": [
    "routes"
   ]
  },
  {
   "cell_type": "code",
   "execution_count": 9,
   "id": "f94eb11a",
   "metadata": {},
   "outputs": [
    {
     "data": {
      "text/plain": [
       "{'0.8': [{'target': 'CC(=O)Nc1ccc(O)cc1',\n",
       "   'search_time': 13.141473531723022,\n",
       "   'first_solution_time': 3.0831737518310547,\n",
       "   'first_solution_iteration': 1,\n",
       "   'number_of_nodes': 73,\n",
       "   'max_transforms': 7,\n",
       "   'max_children': 26,\n",
       "   'number_of_routes': 34,\n",
       "   'number_of_solved_routes': 29,\n",
       "   'top_score': 0.9976287063411217,\n",
       "   'is_solved': True,\n",
       "   'number_of_steps': 1,\n",
       "   'number_of_precursors': 2,\n",
       "   'number_of_precursors_in_stock': 2,\n",
       "   'precursors_in_stock': 'CC(=O)OC(C)=O, Nc1ccc(O)cc1',\n",
       "   'precursors_not_in_stock': '',\n",
       "   'policy_used_counts': {'uspto': 72}},\n",
       "  {'target': 'CCNC(=O)[C@H]1O[C@@H](n2cnc3c(N)nc(NCCc4ccc(CCC(=O)O)cc4)nc32)[C@H](O)[C@@H]1O',\n",
       "   'search_time': 105.41343235969543,\n",
       "   'first_solution_time': 0,\n",
       "   'first_solution_iteration': 0,\n",
       "   'number_of_nodes': 788,\n",
       "   'max_transforms': 7,\n",
       "   'max_children': 29,\n",
       "   'number_of_routes': 124,\n",
       "   'number_of_solved_routes': 0,\n",
       "   'top_score': 0.7659601461011059,\n",
       "   'is_solved': False,\n",
       "   'number_of_steps': 6,\n",
       "   'number_of_precursors': 5,\n",
       "   'number_of_precursors_in_stock': 4,\n",
       "   'precursors_in_stock': 'NCCc1ccc(CCC(=O)O)cc1, O=C1CCC(=O)N1O, NC(=O)c1ccccc1, CCCCN=[N+]=[N-]',\n",
       "   'precursors_not_in_stock': 'CC(=O)O[C@@H]1[C@@H](C(=O)O)O[C@@H](n2cnc3c(Cl)nc(Cl)nc32)[C@@H]1OC(C)=O',\n",
       "   'policy_used_counts': {'uspto': 787}},\n",
       "  {'target': 'Cn1c(=O)c2c(ncn2C)n(C)c1=O',\n",
       "   'search_time': 15.727488040924072,\n",
       "   'first_solution_time': 1.890974998474121,\n",
       "   'first_solution_iteration': 4,\n",
       "   'number_of_nodes': 45,\n",
       "   'max_transforms': 1,\n",
       "   'max_children': 44,\n",
       "   'number_of_routes': 44,\n",
       "   'number_of_solved_routes': 18,\n",
       "   'top_score': 0.9976287063411217,\n",
       "   'is_solved': True,\n",
       "   'number_of_steps': 1,\n",
       "   'number_of_precursors': 1,\n",
       "   'number_of_precursors_in_stock': 1,\n",
       "   'precursors_in_stock': 'Cn1c(=O)c2[nH]cnc2n(C)c1=O',\n",
       "   'precursors_not_in_stock': '',\n",
       "   'policy_used_counts': {'uspto': 44}},\n",
       "  {'target': 'C[C@@H](CC(C(=O)N1CCCC1)(c1ccccc1)c1ccccc1)N1CCOCC1',\n",
       "   'search_time': 93.57001280784607,\n",
       "   'first_solution_time': 4.189043045043945,\n",
       "   'first_solution_iteration': 4,\n",
       "   'number_of_nodes': 626,\n",
       "   'max_transforms': 7,\n",
       "   'max_children': 18,\n",
       "   'number_of_routes': 117,\n",
       "   'number_of_solved_routes': 6,\n",
       "   'top_score': 0.975,\n",
       "   'is_solved': True,\n",
       "   'number_of_steps': 4,\n",
       "   'number_of_precursors': 3,\n",
       "   'number_of_precursors_in_stock': 3,\n",
       "   'precursors_in_stock': 'BrCCCCBr, N#CC(c1ccccc1)c1ccccc1, C[C@@H](CO)N1CCOCC1',\n",
       "   'precursors_not_in_stock': '',\n",
       "   'policy_used_counts': {'uspto': 625}},\n",
       "  {'target': 'CCC(=O)n1c(=O)n(C2CCN(CCC(C#N)(c3ccccc3)c3ccccc3)CC2)c2ccccc21',\n",
       "   'search_time': 121.58461546897888,\n",
       "   'first_solution_time': 0,\n",
       "   'first_solution_iteration': 0,\n",
       "   'number_of_nodes': 597,\n",
       "   'max_transforms': 7,\n",
       "   'max_children': 14,\n",
       "   'number_of_routes': 84,\n",
       "   'number_of_solved_routes': 0,\n",
       "   'top_score': 0.8372101461011058,\n",
       "   'is_solved': False,\n",
       "   'number_of_steps': 6,\n",
       "   'number_of_precursors': 8,\n",
       "   'number_of_precursors_in_stock': 7,\n",
       "   'precursors_in_stock': 'O=S(Cl)Cl, C=CCBr, N#CC(c1ccccc1)c1ccccc1, BrCc1ccccc1, CC(C)(C)OC(=O)N1CCC(O)CC1, CCC(=O)Nc1ccccc1N, O=C(n1ccnc1)n1ccnc1',\n",
       "   'precursors_not_in_stock': 'CS(=O)(=O)[O-]',\n",
       "   'policy_used_counts': {'uspto': 596}}],\n",
       " '1.0': [{'target': 'CC(=O)Nc1ccc(O)cc1',\n",
       "   'search_time': 10.146084070205688,\n",
       "   'first_solution_time': 0.06967520713806152,\n",
       "   'first_solution_iteration': 1,\n",
       "   'number_of_nodes': 79,\n",
       "   'max_transforms': 7,\n",
       "   'max_children': 26,\n",
       "   'number_of_routes': 35,\n",
       "   'number_of_solved_routes': 29,\n",
       "   'top_score': 0.9976287063411217,\n",
       "   'is_solved': True,\n",
       "   'number_of_steps': 1,\n",
       "   'number_of_precursors': 2,\n",
       "   'number_of_precursors_in_stock': 2,\n",
       "   'precursors_in_stock': 'CC(=O)OC(C)=O, Nc1ccc(O)cc1',\n",
       "   'precursors_not_in_stock': '',\n",
       "   'policy_used_counts': {'uspto': 78}},\n",
       "  {'target': 'CCNC(=O)[C@H]1O[C@@H](n2cnc3c(N)nc(NCCc4ccc(CCC(=O)O)cc4)nc32)[C@H](O)[C@@H]1O',\n",
       "   'search_time': 100.14638066291809,\n",
       "   'first_solution_time': 0,\n",
       "   'first_solution_iteration': 0,\n",
       "   'number_of_nodes': 788,\n",
       "   'max_transforms': 7,\n",
       "   'max_children': 29,\n",
       "   'number_of_routes': 125,\n",
       "   'number_of_solved_routes': 0,\n",
       "   'top_score': 0.7659601461011059,\n",
       "   'is_solved': False,\n",
       "   'number_of_steps': 6,\n",
       "   'number_of_precursors': 5,\n",
       "   'number_of_precursors_in_stock': 4,\n",
       "   'precursors_in_stock': 'NCCc1ccc(CCC(=O)O)cc1, O=C1CCC(=O)N1O, NC(=O)c1ccccc1, CCCCN=[N+]=[N-]',\n",
       "   'precursors_not_in_stock': 'CC(=O)O[C@@H]1[C@@H](C(=O)O)O[C@@H](n2cnc3c(Cl)nc(Cl)nc32)[C@@H]1OC(C)=O',\n",
       "   'policy_used_counts': {'uspto': 787}},\n",
       "  {'target': 'Cn1c(=O)c2c(ncn2C)n(C)c1=O',\n",
       "   'search_time': 15.566522121429443,\n",
       "   'first_solution_time': 1.8739488124847412,\n",
       "   'first_solution_iteration': 4,\n",
       "   'number_of_nodes': 45,\n",
       "   'max_transforms': 1,\n",
       "   'max_children': 44,\n",
       "   'number_of_routes': 44,\n",
       "   'number_of_solved_routes': 18,\n",
       "   'top_score': 0.9976287063411217,\n",
       "   'is_solved': True,\n",
       "   'number_of_steps': 1,\n",
       "   'number_of_precursors': 1,\n",
       "   'number_of_precursors_in_stock': 1,\n",
       "   'precursors_in_stock': 'Cn1c(=O)c2[nH]cnc2n(C)c1=O',\n",
       "   'precursors_not_in_stock': '',\n",
       "   'policy_used_counts': {'uspto': 44}},\n",
       "  {'target': 'C[C@@H](CC(C(=O)N1CCCC1)(c1ccccc1)c1ccccc1)N1CCOCC1',\n",
       "   'search_time': 89.03866004943848,\n",
       "   'first_solution_time': 2.6498398780822754,\n",
       "   'first_solution_iteration': 3,\n",
       "   'number_of_nodes': 617,\n",
       "   'max_transforms': 7,\n",
       "   'max_children': 18,\n",
       "   'number_of_routes': 110,\n",
       "   'number_of_solved_routes': 6,\n",
       "   'top_score': 0.975,\n",
       "   'is_solved': True,\n",
       "   'number_of_steps': 4,\n",
       "   'number_of_precursors': 3,\n",
       "   'number_of_precursors_in_stock': 3,\n",
       "   'precursors_in_stock': 'BrCCCCBr, N#CC(c1ccccc1)c1ccccc1, C[C@@H](CO)N1CCOCC1',\n",
       "   'precursors_not_in_stock': '',\n",
       "   'policy_used_counts': {'uspto': 616}},\n",
       "  {'target': 'CCC(=O)n1c(=O)n(C2CCN(CCC(C#N)(c3ccccc3)c3ccccc3)CC2)c2ccccc21',\n",
       "   'search_time': 120.20888924598694,\n",
       "   'first_solution_time': 0,\n",
       "   'first_solution_iteration': 0,\n",
       "   'number_of_nodes': 615,\n",
       "   'max_transforms': 7,\n",
       "   'max_children': 14,\n",
       "   'number_of_routes': 86,\n",
       "   'number_of_solved_routes': 0,\n",
       "   'top_score': 0.8372101461011058,\n",
       "   'is_solved': False,\n",
       "   'number_of_steps': 6,\n",
       "   'number_of_precursors': 8,\n",
       "   'number_of_precursors_in_stock': 7,\n",
       "   'precursors_in_stock': 'O=S(Cl)Cl, C=CCBr, N#CC(c1ccccc1)c1ccccc1, BrCc1ccccc1, CC(C)(C)OC(=O)N1CCC(O)CC1, CCC(=O)Nc1ccccc1N, O=C(n1ccnc1)n1ccnc1',\n",
       "   'precursors_not_in_stock': 'CS(=O)(=O)[O-]',\n",
       "   'policy_used_counts': {'uspto': 614}}],\n",
       " '1.2': [{'target': 'CC(=O)Nc1ccc(O)cc1',\n",
       "   'search_time': 9.479565620422363,\n",
       "   'first_solution_time': 0.06687426567077637,\n",
       "   'first_solution_iteration': 1,\n",
       "   'number_of_nodes': 85,\n",
       "   'max_transforms': 7,\n",
       "   'max_children': 26,\n",
       "   'number_of_routes': 36,\n",
       "   'number_of_solved_routes': 29,\n",
       "   'top_score': 0.9976287063411217,\n",
       "   'is_solved': True,\n",
       "   'number_of_steps': 1,\n",
       "   'number_of_precursors': 2,\n",
       "   'number_of_precursors_in_stock': 2,\n",
       "   'precursors_in_stock': 'CC(=O)OC(C)=O, Nc1ccc(O)cc1',\n",
       "   'precursors_not_in_stock': '',\n",
       "   'policy_used_counts': {'uspto': 84}},\n",
       "  {'target': 'CCNC(=O)[C@H]1O[C@@H](n2cnc3c(N)nc(NCCc4ccc(CCC(=O)O)cc4)nc32)[C@H](O)[C@@H]1O',\n",
       "   'search_time': 99.86004734039307,\n",
       "   'first_solution_time': 0,\n",
       "   'first_solution_iteration': 0,\n",
       "   'number_of_nodes': 783,\n",
       "   'max_transforms': 7,\n",
       "   'max_children': 29,\n",
       "   'number_of_routes': 124,\n",
       "   'number_of_solved_routes': 0,\n",
       "   'top_score': 0.7659601461011059,\n",
       "   'is_solved': False,\n",
       "   'number_of_steps': 6,\n",
       "   'number_of_precursors': 5,\n",
       "   'number_of_precursors_in_stock': 4,\n",
       "   'precursors_in_stock': 'NCCc1ccc(CCC(=O)O)cc1, O=C1CCC(=O)N1O, NC(=O)c1ccccc1, CCCCN=[N+]=[N-]',\n",
       "   'precursors_not_in_stock': 'CC(=O)O[C@@H]1[C@@H](C(=O)O)O[C@@H](n2cnc3c(Cl)nc(Cl)nc32)[C@@H]1OC(C)=O',\n",
       "   'policy_used_counts': {'uspto': 782}},\n",
       "  {'target': 'Cn1c(=O)c2c(ncn2C)n(C)c1=O',\n",
       "   'search_time': 15.635418891906738,\n",
       "   'first_solution_time': 1.878204107284546,\n",
       "   'first_solution_iteration': 4,\n",
       "   'number_of_nodes': 45,\n",
       "   'max_transforms': 1,\n",
       "   'max_children': 44,\n",
       "   'number_of_routes': 44,\n",
       "   'number_of_solved_routes': 18,\n",
       "   'top_score': 0.9976287063411217,\n",
       "   'is_solved': True,\n",
       "   'number_of_steps': 1,\n",
       "   'number_of_precursors': 1,\n",
       "   'number_of_precursors_in_stock': 1,\n",
       "   'precursors_in_stock': 'Cn1c(=O)c2[nH]cnc2n(C)c1=O',\n",
       "   'precursors_not_in_stock': '',\n",
       "   'policy_used_counts': {'uspto': 44}},\n",
       "  {'target': 'C[C@@H](CC(C(=O)N1CCCC1)(c1ccccc1)c1ccccc1)N1CCOCC1',\n",
       "   'search_time': 92.06678199768066,\n",
       "   'first_solution_time': 2.674264907836914,\n",
       "   'first_solution_iteration': 3,\n",
       "   'number_of_nodes': 623,\n",
       "   'max_transforms': 7,\n",
       "   'max_children': 18,\n",
       "   'number_of_routes': 113,\n",
       "   'number_of_solved_routes': 4,\n",
       "   'top_score': 0.975,\n",
       "   'is_solved': True,\n",
       "   'number_of_steps': 4,\n",
       "   'number_of_precursors': 3,\n",
       "   'number_of_precursors_in_stock': 3,\n",
       "   'precursors_in_stock': 'BrCCCCBr, N#CC(c1ccccc1)c1ccccc1, C[C@@H](CO)N1CCOCC1',\n",
       "   'precursors_not_in_stock': '',\n",
       "   'policy_used_counts': {'uspto': 622}},\n",
       "  {'target': 'CCC(=O)n1c(=O)n(C2CCN(CCC(C#N)(c3ccccc3)c3ccccc3)CC2)c2ccccc21',\n",
       "   'search_time': 120.58995318412781,\n",
       "   'first_solution_time': 0,\n",
       "   'first_solution_iteration': 0,\n",
       "   'number_of_nodes': 631,\n",
       "   'max_transforms': 7,\n",
       "   'max_children': 14,\n",
       "   'number_of_routes': 88,\n",
       "   'number_of_solved_routes': 0,\n",
       "   'top_score': 0.8372101461011058,\n",
       "   'is_solved': False,\n",
       "   'number_of_steps': 6,\n",
       "   'number_of_precursors': 8,\n",
       "   'number_of_precursors_in_stock': 7,\n",
       "   'precursors_in_stock': 'O=S(Cl)Cl, C=CCBr, N#CC(c1ccccc1)c1ccccc1, BrCc1ccccc1, CC(C)(C)OC(=O)N1CCC(O)CC1, CCC(=O)Nc1ccccc1N, O=C(n1ccnc1)n1ccnc1',\n",
       "   'precursors_not_in_stock': 'CS(=O)(=O)[O-]',\n",
       "   'policy_used_counts': {'uspto': 630}}],\n",
       " '1.4': [{'target': 'CC(=O)Nc1ccc(O)cc1',\n",
       "   'search_time': 10.644604921340942,\n",
       "   'first_solution_time': 0.06743764877319336,\n",
       "   'first_solution_iteration': 1,\n",
       "   'number_of_nodes': 85,\n",
       "   'max_transforms': 7,\n",
       "   'max_children': 26,\n",
       "   'number_of_routes': 36,\n",
       "   'number_of_solved_routes': 29,\n",
       "   'top_score': 0.9976287063411217,\n",
       "   'is_solved': True,\n",
       "   'number_of_steps': 1,\n",
       "   'number_of_precursors': 2,\n",
       "   'number_of_precursors_in_stock': 2,\n",
       "   'precursors_in_stock': 'CC(=O)OC(C)=O, Nc1ccc(O)cc1',\n",
       "   'precursors_not_in_stock': '',\n",
       "   'policy_used_counts': {'uspto': 84}},\n",
       "  {'target': 'CCNC(=O)[C@H]1O[C@@H](n2cnc3c(N)nc(NCCc4ccc(CCC(=O)O)cc4)nc32)[C@H](O)[C@@H]1O',\n",
       "   'search_time': 98.18952584266663,\n",
       "   'first_solution_time': 0,\n",
       "   'first_solution_iteration': 0,\n",
       "   'number_of_nodes': 780,\n",
       "   'max_transforms': 7,\n",
       "   'max_children': 29,\n",
       "   'number_of_routes': 124,\n",
       "   'number_of_solved_routes': 0,\n",
       "   'top_score': 0.7659601461011059,\n",
       "   'is_solved': False,\n",
       "   'number_of_steps': 6,\n",
       "   'number_of_precursors': 5,\n",
       "   'number_of_precursors_in_stock': 4,\n",
       "   'precursors_in_stock': 'NCCc1ccc(CCC(=O)O)cc1, O=C1CCC(=O)N1O, NC(=O)c1ccccc1, CCCCN=[N+]=[N-]',\n",
       "   'precursors_not_in_stock': 'CC(=O)O[C@@H]1[C@@H](C(=O)O)O[C@@H](n2cnc3c(Cl)nc(Cl)nc32)[C@@H]1OC(C)=O',\n",
       "   'policy_used_counts': {'uspto': 779}},\n",
       "  {'target': 'Cn1c(=O)c2c(ncn2C)n(C)c1=O',\n",
       "   'search_time': 15.720181465148926,\n",
       "   'first_solution_time': 1.868340253829956,\n",
       "   'first_solution_iteration': 4,\n",
       "   'number_of_nodes': 48,\n",
       "   'max_transforms': 4,\n",
       "   'max_children': 44,\n",
       "   'number_of_routes': 44,\n",
       "   'number_of_solved_routes': 19,\n",
       "   'top_score': 0.9976287063411217,\n",
       "   'is_solved': True,\n",
       "   'number_of_steps': 1,\n",
       "   'number_of_precursors': 1,\n",
       "   'number_of_precursors_in_stock': 1,\n",
       "   'precursors_in_stock': 'Cn1c(=O)c2[nH]cnc2n(C)c1=O',\n",
       "   'precursors_not_in_stock': '',\n",
       "   'policy_used_counts': {'uspto': 47}},\n",
       "  {'target': 'C[C@@H](CC(C(=O)N1CCCC1)(c1ccccc1)c1ccccc1)N1CCOCC1',\n",
       "   'search_time': 93.69483184814453,\n",
       "   'first_solution_time': 5.363568544387817,\n",
       "   'first_solution_iteration': 4,\n",
       "   'number_of_nodes': 629,\n",
       "   'max_transforms': 7,\n",
       "   'max_children': 18,\n",
       "   'number_of_routes': 114,\n",
       "   'number_of_solved_routes': 4,\n",
       "   'top_score': 0.975,\n",
       "   'is_solved': True,\n",
       "   'number_of_steps': 4,\n",
       "   'number_of_precursors': 3,\n",
       "   'number_of_precursors_in_stock': 3,\n",
       "   'precursors_in_stock': 'BrCCCCBr, N#CC(c1ccccc1)c1ccccc1, C[C@@H](CO)N1CCOCC1',\n",
       "   'precursors_not_in_stock': '',\n",
       "   'policy_used_counts': {'uspto': 628}},\n",
       "  {'target': 'CCC(=O)n1c(=O)n(C2CCN(CCC(C#N)(c3ccccc3)c3ccccc3)CC2)c2ccccc21',\n",
       "   'search_time': 121.37036371231079,\n",
       "   'first_solution_time': 0,\n",
       "   'first_solution_iteration': 0,\n",
       "   'number_of_nodes': 621,\n",
       "   'max_transforms': 7,\n",
       "   'max_children': 14,\n",
       "   'number_of_routes': 88,\n",
       "   'number_of_solved_routes': 0,\n",
       "   'top_score': 0.8372101461011058,\n",
       "   'is_solved': False,\n",
       "   'number_of_steps': 6,\n",
       "   'number_of_precursors': 8,\n",
       "   'number_of_precursors_in_stock': 7,\n",
       "   'precursors_in_stock': 'O=S(Cl)Cl, C=CCBr, N#CC(c1ccccc1)c1ccccc1, BrCc1ccccc1, CC(C)(C)OC(=O)N1CCC(O)CC1, CCC(=O)Nc1ccccc1N, O=C(n1ccnc1)n1ccnc1',\n",
       "   'precursors_not_in_stock': 'CS(=O)(=O)[O-]',\n",
       "   'policy_used_counts': {'uspto': 620}}],\n",
       " '1.6': [{'target': 'CC(=O)Nc1ccc(O)cc1',\n",
       "   'search_time': 9.468092918395996,\n",
       "   'first_solution_time': 0.06758999824523926,\n",
       "   'first_solution_iteration': 1,\n",
       "   'number_of_nodes': 85,\n",
       "   'max_transforms': 7,\n",
       "   'max_children': 26,\n",
       "   'number_of_routes': 36,\n",
       "   'number_of_solved_routes': 29,\n",
       "   'top_score': 0.9976287063411217,\n",
       "   'is_solved': True,\n",
       "   'number_of_steps': 1,\n",
       "   'number_of_precursors': 2,\n",
       "   'number_of_precursors_in_stock': 2,\n",
       "   'precursors_in_stock': 'CC(=O)OC(C)=O, Nc1ccc(O)cc1',\n",
       "   'precursors_not_in_stock': '',\n",
       "   'policy_used_counts': {'uspto': 84}},\n",
       "  {'target': 'CCNC(=O)[C@H]1O[C@@H](n2cnc3c(N)nc(NCCc4ccc(CCC(=O)O)cc4)nc32)[C@H](O)[C@@H]1O',\n",
       "   'search_time': 99.5009663105011,\n",
       "   'first_solution_time': 0,\n",
       "   'first_solution_iteration': 0,\n",
       "   'number_of_nodes': 782,\n",
       "   'max_transforms': 7,\n",
       "   'max_children': 29,\n",
       "   'number_of_routes': 124,\n",
       "   'number_of_solved_routes': 0,\n",
       "   'top_score': 0.7659601461011059,\n",
       "   'is_solved': False,\n",
       "   'number_of_steps': 6,\n",
       "   'number_of_precursors': 5,\n",
       "   'number_of_precursors_in_stock': 4,\n",
       "   'precursors_in_stock': 'NCCc1ccc(CCC(=O)O)cc1, O=C1CCC(=O)N1O, NC(=O)c1ccccc1, CCCCN=[N+]=[N-]',\n",
       "   'precursors_not_in_stock': 'CC(=O)O[C@@H]1[C@@H](C(=O)O)O[C@@H](n2cnc3c(Cl)nc(Cl)nc32)[C@@H]1OC(C)=O',\n",
       "   'policy_used_counts': {'uspto': 781}},\n",
       "  {'target': 'Cn1c(=O)c2c(ncn2C)n(C)c1=O',\n",
       "   'search_time': 15.928476810455322,\n",
       "   'first_solution_time': 1.8916778564453125,\n",
       "   'first_solution_iteration': 4,\n",
       "   'number_of_nodes': 48,\n",
       "   'max_transforms': 4,\n",
       "   'max_children': 44,\n",
       "   'number_of_routes': 44,\n",
       "   'number_of_solved_routes': 19,\n",
       "   'top_score': 0.9976287063411217,\n",
       "   'is_solved': True,\n",
       "   'number_of_steps': 1,\n",
       "   'number_of_precursors': 1,\n",
       "   'number_of_precursors_in_stock': 1,\n",
       "   'precursors_in_stock': 'Cn1c(=O)c2[nH]cnc2n(C)c1=O',\n",
       "   'precursors_not_in_stock': '',\n",
       "   'policy_used_counts': {'uspto': 47}},\n",
       "  {'target': 'C[C@@H](CC(C(=O)N1CCCC1)(c1ccccc1)c1ccccc1)N1CCOCC1',\n",
       "   'search_time': 91.19996643066406,\n",
       "   'first_solution_time': 2.6897432804107666,\n",
       "   'first_solution_iteration': 3,\n",
       "   'number_of_nodes': 626,\n",
       "   'max_transforms': 7,\n",
       "   'max_children': 18,\n",
       "   'number_of_routes': 113,\n",
       "   'number_of_solved_routes': 4,\n",
       "   'top_score': 0.975,\n",
       "   'is_solved': True,\n",
       "   'number_of_steps': 4,\n",
       "   'number_of_precursors': 3,\n",
       "   'number_of_precursors_in_stock': 3,\n",
       "   'precursors_in_stock': 'BrCCCCBr, N#CC(c1ccccc1)c1ccccc1, C[C@@H](CO)N1CCOCC1',\n",
       "   'precursors_not_in_stock': '',\n",
       "   'policy_used_counts': {'uspto': 625}},\n",
       "  {'target': 'CCC(=O)n1c(=O)n(C2CCN(CCC(C#N)(c3ccccc3)c3ccccc3)CC2)c2ccccc21',\n",
       "   'search_time': 120.31210041046143,\n",
       "   'first_solution_time': 0,\n",
       "   'first_solution_iteration': 0,\n",
       "   'number_of_nodes': 627,\n",
       "   'max_transforms': 7,\n",
       "   'max_children': 14,\n",
       "   'number_of_routes': 89,\n",
       "   'number_of_solved_routes': 0,\n",
       "   'top_score': 0.8372101461011058,\n",
       "   'is_solved': False,\n",
       "   'number_of_steps': 6,\n",
       "   'number_of_precursors': 8,\n",
       "   'number_of_precursors_in_stock': 7,\n",
       "   'precursors_in_stock': 'O=S(Cl)Cl, C=CCBr, N#CC(c1ccccc1)c1ccccc1, BrCc1ccccc1, CC(C)(C)OC(=O)N1CCC(O)CC1, CCC(=O)Nc1ccccc1N, O=C(n1ccnc1)n1ccnc1',\n",
       "   'precursors_not_in_stock': 'CS(=O)(=O)[O-]',\n",
       "   'policy_used_counts': {'uspto': 626}}]}"
      ]
     },
     "execution_count": 9,
     "metadata": {},
     "output_type": "execute_result"
    }
   ],
   "source": [
    "# json"
   ]
  },
  {
   "cell_type": "markdown",
   "id": "ed0c38ff",
   "metadata": {},
   "source": [
    "# Discussion points for MSc Thesis 25/06/2021\n",
    "\n",
    "- Mini experiments are done, plotting shows that a higher C value is not necessarily better, as in some cases (e.g. dextromoramide, 4th plot), a higher C param actually resolted in a lower number of solved routes. Cases like these may be interesting to look into further. Maybe some structures are just more convenient to exploit.\n",
    "<br>\n",
    "<br>\n",
    "- We can also peek into the state of certain nodes to see what the internals of the tree look like. Following this, we can also straightforwardly request multiple results from the MCTS search with AiZynthFinder, so this does not need to be implemented manually.\n",
    "<br>\n",
    "<br>\n",
    "- I want to take my time a bit more with the thesis to make sure I'm satisfied with my work, so should I look into asking to graduate later than August? (i.e. not applying for graduation before July 1st).\n",
    "<br>\n",
    "<br>\n",
    "- I have found another paper by Thakkar et al. (no idea how I missed this one) called \"Retrosynthetic accessibility score (RAscore)–rapidmachine learned synthesizability classification fromAI driven retrosynthetic planning†\" which may be exactly what we're looking for to incorporate into the meta-loop of DrugEx. If it's okay for me to take a bit more time with my thesis, this might be an extremely interesting approach to try out!\n",
    "<br>\n",
    "<br>\n",
    "- I didn't read it in full detail yet as I just found it a few hours ago, but essentially the AiZynthFinder people trained a model on their previous results to be able to very quickly predict a RA-score (Retrosynthetic Accessibility) which in the abstract is stated to be a x4500 speedup than the underlying CASP tool (AiZynthFinder). This should definitely be viable in the training loop for DrugEx!\n",
    "<br>\n",
    "<br>\n",
    "- Rerun main2() if we want to look at the node's internal state (plus visuals). Not sure if node list was pickled correctly."
   ]
  },
  {
   "cell_type": "code",
   "execution_count": 68,
   "id": "0ce0410b",
   "metadata": {},
   "outputs": [],
   "source": [
    "def plot_results(path_to_result_json:str, variable_to_plot:str=\"number_of_solved_routes\"):\n",
    "    with open(path_to_result_json, mode=\"r\", encoding=\"utf-8\") as f:\n",
    "        results = json.load(f)\n",
    "        for i in range(len(results)):\n",
    "            assert len(results) == 5\n",
    "            x = [results[k][i][variable_to_plot] for k, _ in results.items()]\n",
    "            plt.plot(x)\n",
    "            plt.show()"
   ]
  },
  {
   "cell_type": "code",
   "execution_count": 73,
   "id": "efa13319",
   "metadata": {
    "scrolled": true
   },
   "outputs": [
    {
     "name": "stdout",
     "output_type": "stream",
     "text": [
      "[29, 29, 29, 29, 29]\n"
     ]
    },
    {
     "data": {
      "image/png": "[encoded data removed]",
      "text/plain": [
       "<Figure size 432x288 with 1 Axes>"
      ]
     },
     "metadata": {
      "needs_background": "light"
     },
     "output_type": "display_data"
    },
    {
     "name": "stdout",
     "output_type": "stream",
     "text": [
      "[0, 0, 0, 0, 0]\n"
     ]
    },
    {
     "data": {
      "image/png": "[encoded data removed]",
      "text/plain": [
       "<Figure size 432x288 with 1 Axes>"
      ]
     },
     "metadata": {
      "needs_background": "light"
     },
     "output_type": "display_data"
    },
    {
     "name": "stdout",
     "output_type": "stream",
     "text": [
      "[18, 18, 18, 19, 19]\n"
     ]
    },
    {
     "data": {
      "image/png": "[encoded data removed]",
      "text/plain": [
       "<Figure size 432x288 with 1 Axes>"
      ]
     },
     "metadata": {
      "needs_background": "light"
     },
     "output_type": "display_data"
    },
    {
     "name": "stdout",
     "output_type": "stream",
     "text": [
      "[6, 6, 4, 4, 4]\n"
     ]
    },
    {
     "data": {
      "image/png": "[encoded data removed]",
      "text/plain": [
       "<Figure size 432x288 with 1 Axes>"
      ]
     },
     "metadata": {
      "needs_background": "light"
     },
     "output_type": "display_data"
    },
    {
     "name": "stdout",
     "output_type": "stream",
     "text": [
      "[0, 0, 0, 0, 0]\n"
     ]
    },
    {
     "data": {
      "image/png": "[encoded data removed]",
      "text/plain": [
       "<Figure size 432x288 with 1 Axes>"
      ]
     },
     "metadata": {
      "needs_background": "light"
     },
     "output_type": "display_data"
    }
   ],
   "source": [
    "plot_results(\"../data/result_dict_json_250621_0535.json\", variable_to_plot=\"number_of_solved_routes\")"
   ]
  },
  {
   "cell_type": "code",
   "execution_count": 77,
   "id": "a7e630ee",
   "metadata": {},
   "outputs": [
    {
     "ename": "EOFError",
     "evalue": "Ran out of input",
     "output_type": "error",
     "traceback": [
      "\u001b[0;31m---------------------------------------------------------------------------\u001b[0m",
      "\u001b[0;31mEOFError\u001b[0m                                  Traceback (most recent call last)",
      "\u001b[0;32m<ipython-input-77-1ca35fe7cfc6>\u001b[0m in \u001b[0;36m<module>\u001b[0;34m\u001b[0m\n\u001b[1;32m      1\u001b[0m \u001b[0;31m# I think something went wrong while pickling\u001b[0m\u001b[0;34m\u001b[0m\u001b[0;34m\u001b[0m\u001b[0;34m\u001b[0m\u001b[0m\n\u001b[1;32m      2\u001b[0m \u001b[0;32mwith\u001b[0m \u001b[0mopen\u001b[0m\u001b[0;34m(\u001b[0m\u001b[0;34m\"../data/retro_states.pkl\"\u001b[0m\u001b[0;34m,\u001b[0m \u001b[0mmode\u001b[0m\u001b[0;34m=\u001b[0m\u001b[0;34m\"rb\"\u001b[0m\u001b[0;34m)\u001b[0m \u001b[0;32mas\u001b[0m \u001b[0mpkl\u001b[0m\u001b[0;34m:\u001b[0m\u001b[0;34m\u001b[0m\u001b[0;34m\u001b[0m\u001b[0m\n\u001b[0;32m----> 3\u001b[0;31m     \u001b[0mnode_list\u001b[0m \u001b[0;34m=\u001b[0m \u001b[0mpickle\u001b[0m\u001b[0;34m.\u001b[0m\u001b[0mload\u001b[0m\u001b[0;34m(\u001b[0m\u001b[0mpkl\u001b[0m\u001b[0;34m)\u001b[0m\u001b[0;34m\u001b[0m\u001b[0;34m\u001b[0m\u001b[0m\n\u001b[0m",
      "\u001b[0;31mEOFError\u001b[0m: Ran out of input"
     ]
    }
   ],
   "source": [
    "# I think something went wrong while pickling\n",
    "with open(\"../data/retro_states.pkl\", mode=\"rb\") as pkl:\n",
    "    node_list = pickle.load(pkl)"
   ]
  },
  {
   "cell_type": "code",
   "execution_count": null,
   "id": "92f2c765",
   "metadata": {},
   "outputs": [],
   "source": []
  }
 ],
 "metadata": {
  "kernelspec": {
   "display_name": "Python 3",
   "language": "python",
   "name": "python3"
  },
  "language_info": {
   "codemirror_mode": {
    "name": "ipython",
    "version": 3
   },
   "file_extension": ".py",
   "mimetype": "text/x-python",
   "name": "python",
   "nbconvert_exporter": "python",
   "pygments_lexer": "ipython3",
   "version": "3.8.8"
  }
 },
 "nbformat": 4,
 "nbformat_minor": 5
}
